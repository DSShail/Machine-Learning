{
  "nbformat": 4,
  "nbformat_minor": 0,
  "metadata": {
    "colab": {
      "private_outputs": true,
      "provenance": [],
      "gpuType": "T4",
      "collapsed_sections": [
        "afq9C1gZKu1a"
      ],
      "authorship_tag": "ABX9TyObiTJ3Q5OKGsAwtNxr2UkG",
      "include_colab_link": true
    },
    "kernelspec": {
      "name": "python3",
      "display_name": "Python 3"
    },
    "language_info": {
      "name": "python"
    },
    "accelerator": "GPU"
  },
  "cells": [
    {
      "cell_type": "markdown",
      "metadata": {
        "id": "view-in-github",
        "colab_type": "text"
      },
      "source": [
        "<a href=\"https://colab.research.google.com/github/DSShail/Machine-Learning/blob/main/credit_card_fraud_detection_2_0.ipynb\" target=\"_parent\"><img src=\"https://colab.research.google.com/assets/colab-badge.svg\" alt=\"Open In Colab\"/></a>"
      ]
    },
    {
      "cell_type": "code",
      "execution_count": null,
      "metadata": {
        "id": "TJxcGO_c_rf0"
      },
      "outputs": [],
      "source": [
        "import pandas as pd\n",
        "import numpy as np\n",
        "import seaborn as sns\n",
        "import matplotlib.pyplot as plt\n",
        "import scipy.stats as stats\n",
        "\n",
        "from statsmodels.graphics.gofplots import qqplot\n",
        "\n",
        "from sklearn.model_selection import cross_val_score\n",
        "from sklearn.model_selection import train_test_split\n",
        "from sklearn.linear_model import LinearRegression\n",
        "from sklearn.metrics import r2_score,accuracy_score,classification_report\n",
        "!pip install statsmodels"
      ]
    },
    {
      "cell_type": "markdown",
      "source": [
        "*Reading the CSV file into a dataframe*"
      ],
      "metadata": {
        "id": "Vhvh0UMPcHhx"
      }
    },
    {
      "cell_type": "code",
      "source": [
        "credit_df=pd.read_csv('creditcard.csv')"
      ],
      "metadata": {
        "id": "_rPYg9uRA61G"
      },
      "execution_count": null,
      "outputs": []
    },
    {
      "cell_type": "markdown",
      "source": [
        "*Dropping the Na rows and columns *"
      ],
      "metadata": {
        "id": "bVNiir_UcN-g"
      }
    },
    {
      "cell_type": "code",
      "source": [
        "credit_df.dropna(inplace=True)"
      ],
      "metadata": {
        "id": "y2N_OZE4FGB7"
      },
      "execution_count": null,
      "outputs": []
    },
    {
      "cell_type": "markdown",
      "source": [
        "*training the data into train and test data*"
      ],
      "metadata": {
        "id": "8jCZKCRvbDs0"
      }
    },
    {
      "cell_type": "code",
      "source": [
        "from sklearn.model_selection import train_test_split\n",
        "X=credit_df.drop(columns=['Class'])\n",
        "y=credit_df['Class']\n",
        "X_train,X_test,y_train,y_test=train_test_split(X,y,test_size=0.2,random_state=0)\n"
      ],
      "metadata": {
        "id": "sLxfhp3eA5WZ"
      },
      "execution_count": null,
      "outputs": []
    },
    {
      "cell_type": "markdown",
      "source": [
        "# Softmax Regression-Logistic Regression"
      ],
      "metadata": {
        "id": "QTGAj-0toAjG"
      }
    },
    {
      "cell_type": "markdown",
      "source": [
        "*We will apply softmax regression because it is a multi-class regression problem statement*"
      ],
      "metadata": {
        "id": "MzUhP1bir5GZ"
      }
    },
    {
      "cell_type": "markdown",
      "source": [
        "we need to scale the input features before fitting into the model"
      ],
      "metadata": {
        "id": "hjc2A3WMtbnN"
      }
    },
    {
      "cell_type": "code",
      "source": [
        "from sklearn.preprocessing import StandardScaler\n",
        "scalar=StandardScaler()\n",
        "\n",
        "X_train_scaled=scalar.fit_transform(X_train)\n",
        "X_test_scaled=scalar.transform(X_test)"
      ],
      "metadata": {
        "id": "l4eVKPxRtj3K"
      },
      "execution_count": null,
      "outputs": []
    },
    {
      "cell_type": "code",
      "source": [
        "from sklearn.linear_model import LogisticRegression\n",
        "\n",
        "#using multi-class as multinomial the LogisticRegression becomes SOFTMAX REGRESSION\n",
        "LoR=LogisticRegression(multi_class='multinomial',max_iter=1000)\n",
        "LoR.fit(X_train_scaled,y_train)\n",
        "y_pred_lor=LoR.predict(X_test_scaled)\n",
        "print(accuracy_score(y_pred_lor,y_test))\n",
        "print(classification_report(y_pred_lor,y_test))"
      ],
      "metadata": {
        "id": "6onrHKhBoRU9"
      },
      "execution_count": null,
      "outputs": []
    },
    {
      "cell_type": "markdown",
      "source": [
        "*   \n",
        "*  \n",
        "\n"
      ],
      "metadata": {
        "id": "XMj3ktW2ueFb"
      }
    },
    {
      "cell_type": "markdown",
      "source": [
        "# Decision Tree"
      ],
      "metadata": {
        "id": "eyMrbAY5Knzn"
      }
    },
    {
      "cell_type": "code",
      "source": [
        "parmas={\n",
        "    'criterion': ['gini', 'entropy'],\n",
        "    'max_depth': [5, 10, 15, 20, 25],\n",
        "    'min_samples_leaf': [1, 5],\n",
        "    'min_samples_split': [2, 5, 10],\n",
        "}"
      ],
      "metadata": {
        "id": "dO2vuPztAll0"
      },
      "execution_count": null,
      "outputs": []
    },
    {
      "cell_type": "markdown",
      "source": [
        "**Appying GridSearchCV on DecisionTreeClassifier**"
      ],
      "metadata": {
        "id": "NAE_6crhbK_H"
      }
    },
    {
      "cell_type": "code",
      "source": [
        "from sklearn.model_selection import GridSearchCV\n",
        "from sklearn.tree import DecisionTreeClassifier\n",
        "dt_clf=DecisionTreeClassifier()\n",
        "\n",
        "grid_search=GridSearchCV(estimator=dt_clf, param_grid=parmas, cv=5)\n",
        "grid_search.fit(X_train,y_train)\n",
        "\n",
        "print(\"Best parameters: {}\".format(grid_search.best_params_))\n",
        "print(\"Best cross-validation score: {:.2f}\".format(grid_search.best_score_))"
      ],
      "metadata": {
        "id": "15ERz4XxBOBx"
      },
      "execution_count": null,
      "outputs": []
    },
    {
      "cell_type": "markdown",
      "source": [
        "*we will use the output of GridSearchCV and Hypertune the decision tree parameters*"
      ],
      "metadata": {
        "id": "IyLWMO2abfhH"
      }
    },
    {
      "cell_type": "code",
      "source": [
        "from sklearn.tree import DecisionTreeClassifier\n",
        "\n",
        "#decison tree with hyperparameter tuining\n",
        "decision_tree_clf=DecisionTreeClassifier(criterion='gini')\n",
        "decision_tree_clf =decision_tree_clf.fit(X_train,y_train)\n",
        "y_pred_dt=decision_tree_clf.predict(X_test)"
      ],
      "metadata": {
        "id": "d8VoKP60Bbg6"
      },
      "execution_count": null,
      "outputs": []
    },
    {
      "cell_type": "markdown",
      "source": [
        "*Calculating the accuracy and classification report*"
      ],
      "metadata": {
        "id": "KysVyFmsbqLW"
      }
    },
    {
      "cell_type": "code",
      "source": [
        "from sklearn.metrics import classification_report,accuracy_score\n",
        "print(classification_report(y_test,y_pred_dt))\n",
        "\n",
        "print(accuracy_score(y_pred_dt,y_test))"
      ],
      "metadata": {
        "id": "WVlqp-kkDX9j"
      },
      "execution_count": null,
      "outputs": []
    },
    {
      "cell_type": "markdown",
      "source": [
        "\n",
        "\n",
        "*   F1 score is 1- that means model is ideal\n",
        "*   The accuracy is also 100 percent\n",
        "\n"
      ],
      "metadata": {
        "id": "W2rfq9XIF7Ls"
      }
    },
    {
      "cell_type": "markdown",
      "source": [
        "# Random Forest - Bagging Ensemble"
      ],
      "metadata": {
        "id": "afq9C1gZKu1a"
      }
    },
    {
      "cell_type": "markdown",
      "source": [
        "*Appying GridSearchCV on RandomForest*"
      ],
      "metadata": {
        "id": "iQfanG4Tb1C7"
      }
    },
    {
      "cell_type": "code",
      "source": [
        "\n",
        "from sklearn.ensemble import RandomForestClassifier\n",
        "rf1=RandomForestClassifier()\n",
        "grid_search=GridSearchCV(estimator=rf1, param_grid=parmas, cv=5)\n",
        "grid_search.fit(X_train,y_train)\n",
        "print(\"Best parameters: {}\".format(grid_search.best_params_))\n",
        "print(\"Best cross-validation score: {:.2f}\".format(grid_search.best_score_))"
      ],
      "metadata": {
        "id": "oZSNXTBYF1fD"
      },
      "execution_count": null,
      "outputs": []
    },
    {
      "cell_type": "code",
      "source": [
        "rf2=RandomForestClassifier()\n",
        "rf2.fit(X_train,y_train)\n",
        "y_pred=rf2.predict(X_test)\n",
        "\n",
        "print(accuracy_score(y_pred,y_test))\n",
        "print(classification_report(y_pred,y_test))"
      ],
      "metadata": {
        "id": "J8I8m8Q0L2DU"
      },
      "execution_count": null,
      "outputs": []
    },
    {
      "cell_type": "code",
      "source": [],
      "metadata": {
        "id": "iiriBoURd3gx"
      },
      "execution_count": null,
      "outputs": []
    }
  ]
}