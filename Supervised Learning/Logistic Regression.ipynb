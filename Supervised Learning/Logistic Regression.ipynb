{
 "cells": [
  {
   "cell_type": "markdown",
   "id": "1991308a",
   "metadata": {},
   "source": [
    "## LOGISTIC REGRESSION"
   ]
  },
  {
   "cell_type": "markdown",
   "id": "e8a4ee8b",
   "metadata": {},
   "source": [
    "### We cannot solve classification problem statement using linear regression beacuse outlier changes the best fit line. We are using sigmoid function on linear regression to achive logistic regression.C is the regularization parameter(penalty) that is added to loss function to prevent overfitting and underfitting. \n",
    "Logistic Regression applies L2 regularization by default\n",
    "\n",
    "L1 regularization penalizes the sum of the absolute values of weights\n",
    "\n",
    "L2 regularization penalizes the sum of the square of the weights\n"
   ]
  },
  {
   "cell_type": "code",
   "execution_count": 3,
   "id": "6d1cf84a",
   "metadata": {},
   "outputs": [
    {
     "name": "stdout",
     "output_type": "stream",
     "text": [
      "              precision    recall  f1-score   support\n",
      "\n",
      "           0       0.90      0.92      0.91        65\n",
      "           1       0.96      0.94      0.95       123\n",
      "\n",
      "    accuracy                           0.94       188\n",
      "   macro avg       0.93      0.93      0.93       188\n",
      "weighted avg       0.94      0.94      0.94       188\n",
      "\n",
      "[[ 60   5]\n",
      " [  7 116]]\n",
      "0.9361702127659575\n"
     ]
    },
    {
     "name": "stderr",
     "output_type": "stream",
     "text": [
      "C:\\Users\\Abhishek\\anaconda3\\lib\\site-packages\\sklearn\\linear_model\\_logistic.py:458: ConvergenceWarning: lbfgs failed to converge (status=1):\n",
      "STOP: TOTAL NO. of ITERATIONS REACHED LIMIT.\n",
      "\n",
      "Increase the number of iterations (max_iter) or scale the data as shown in:\n",
      "    https://scikit-learn.org/stable/modules/preprocessing.html\n",
      "Please also refer to the documentation for alternative solver options:\n",
      "    https://scikit-learn.org/stable/modules/linear_model.html#logistic-regression\n",
      "  n_iter_i = _check_optimize_result(\n"
     ]
    }
   ],
   "source": [
    "from sklearn.model_selection import train_test_split\n",
    "from sklearn.linear_model import LogisticRegression\n",
    "from sklearn.metrics import classification_report,confusion_matrix,accuracy_score\n",
    "\n",
    "from sklearn.datasets import load_digits,load_breast_cancer\n",
    "import matplotlib.pyplot as plt\n",
    "\n",
    "breast_cancer=load_breast_cancer()\n",
    "\n",
    "X_train,X_test,y_train,y_test=train_test_split(breast_cancer.data,breast_cancer.target,test_size=0.33,random_state=1)\n",
    "#what is random state?\n",
    "\n",
    "y_pred=LogisticRegression().fit(X_train,y_train).predict(X_test)\n",
    "\n",
    "\n",
    "print(classification_report(y_test,y_pred))\n",
    "print(confusion_matrix(y_test,y_pred))\n",
    "print(accuracy_score(y_test,y_pred))\n"
   ]
  },
  {
   "cell_type": "code",
   "execution_count": null,
   "id": "0da288fe",
   "metadata": {},
   "outputs": [],
   "source": []
  }
 ],
 "metadata": {
  "kernelspec": {
   "display_name": "Python 3 (ipykernel)",
   "language": "python",
   "name": "python3"
  },
  "language_info": {
   "codemirror_mode": {
    "name": "ipython",
    "version": 3
   },
   "file_extension": ".py",
   "mimetype": "text/x-python",
   "name": "python",
   "nbconvert_exporter": "python",
   "pygments_lexer": "ipython3",
   "version": "3.10.9"
  }
 },
 "nbformat": 4,
 "nbformat_minor": 5
}
